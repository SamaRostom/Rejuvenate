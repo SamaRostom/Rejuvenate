{
  "cells": [
    {
      "cell_type": "code",
      "execution_count": null,
      "metadata": {
        "colab": {
          "base_uri": "https://localhost:8080/"
        },
        "id": "OGPz1oE_J5En",
        "outputId": "3949a18f-6de7-4e39-8782-fb95919977c1"
      },
      "outputs": [
        {
          "name": "stdout",
          "output_type": "stream",
          "text": [
            "Mounted at /content/drive\n"
          ]
        }
      ],
      "source": [
        "from google.colab import drive\n",
        "drive.mount('/content/drive', force_remount=True)"
      ]
    },
    {
      "cell_type": "code",
      "execution_count": null,
      "metadata": {
        "colab": {
          "base_uri": "https://localhost:8080/"
        },
        "id": "JwDzS__y0BG1",
        "outputId": "8e35dbf9-dc7a-4291-fa36-0126cb266581"
      },
      "outputs": [
        {
          "name": "stdout",
          "output_type": "stream",
          "text": [
            "Looking in indexes: https://pypi.org/simple, https://us-python.pkg.dev/colab-wheels/public/simple/\n",
            "Requirement already satisfied: opencv-python in /usr/local/lib/python3.8/dist-packages (4.6.0.66)\n",
            "Requirement already satisfied: numpy>=1.14.5 in /usr/local/lib/python3.8/dist-packages (from opencv-python) (1.22.4)\n"
          ]
        }
      ],
      "source": [
        "!pip install opencv-python"
      ]
    },
    {
      "cell_type": "code",
      "execution_count": null,
      "metadata": {
        "id": "FrJpiRm-0GuL"
      },
      "outputs": [],
      "source": [
        "import numpy as np\n",
        "import cv2\n",
        "from PIL import Image\n",
        "from skimage.metrics import structural_similarity as ssim"
      ]
    },
    {
      "cell_type": "code",
      "execution_count": null,
      "metadata": {
        "id": "TuMdf80k0M7F"
      },
      "outputs": [],
      "source": [
        "path_real_image = '/content/drive/MyDrive/measurements/resized/input400.jpg'\n",
        "path_gan_image = '/content/drive/MyDrive/measurements/resized/gan400.jpg'\n",
        "path_lama_image = '/content/drive/MyDrive/measurements/resized/lama400.jpg'\n",
        "path_diffusion_image = '/content/drive/MyDrive/measurements/resized/diffusion400.jpg'"
      ]
    },
    {
      "cell_type": "code",
      "execution_count": null,
      "metadata": {
        "id": "JLC5pTuN0gLY"
      },
      "outputs": [],
      "source": [
        "real_image = cv2.imread(path_real_image)\n",
        "gan_image = cv2.imread(path_gan_image)\n",
        "lama_image = cv2.imread(path_lama_image)\n",
        "diffusion_image = cv2.imread(path_diffusion_image)"
      ]
    },
    {
      "cell_type": "code",
      "execution_count": null,
      "metadata": {
        "id": "-PzZIe0m0jtd"
      },
      "outputs": [],
      "source": [
        "# Convert the images to grayscale\n",
        "real_image_gray = cv2.cvtColor(real_image, cv2.COLOR_BGR2GRAY)\n",
        "gan_image_gray = cv2.cvtColor(gan_image, cv2.COLOR_BGR2GRAY)\n",
        "lama_image_gray = cv2.cvtColor(lama_image, cv2.COLOR_BGR2GRAY)\n",
        "diffusion_image_gray = cv2.cvtColor(diffusion_image, cv2.COLOR_BGR2GRAY)"
      ]
    },
    {
      "cell_type": "code",
      "execution_count": null,
      "metadata": {
        "colab": {
          "base_uri": "https://localhost:8080/"
        },
        "id": "kqug6Wof0mye",
        "outputId": "b743523f-7e21-49d3-e04f-516eabd68ee6"
      },
      "outputs": [
        {
          "name": "stdout",
          "output_type": "stream",
          "text": [
            "Input and GAN:\n",
            "PSNR: 28.05387406406867\n",
            "SSIM: 0.541851076655455\n",
            "\n",
            "Input and LAMA:\n",
            "PSNR: 28.49656053203443\n",
            "SSIM: 0.48167769891366136\n",
            "\n",
            "Input and Diffusion:\n",
            "PSNR: 30.110995617096947\n",
            "SSIM: 0.6296134290659419\n"
          ]
        }
      ],
      "source": [
        "def mse(imageA, imageB):\n",
        "  err = np.sum((imageA.astype(\"float\") - imageB.astype(\"float\")) ** 2)\n",
        "  err /= float(imageA.shape[0] * imageA.shape[1]) \n",
        "  m = np.mean((imageA - imageB) ** 2)\n",
        "  return m\n",
        "\n",
        "def CalculateSSIM(imageA, imageB):\n",
        "  m = mse(imageA, imageB)\n",
        "  s = ssim(imageA, imageB)\n",
        "  return s\n",
        "\n",
        "# Calculate the PSNR\n",
        "def CalculatePSNR(real_image_gray,generated_image_gray):\n",
        "  if mse == 0:\n",
        "      psnr = float('inf')\n",
        "  else:\n",
        "      max_pixel_value = 255.0\n",
        "      psnr = 20 * np.log10(max_pixel_value / np.sqrt(mse(real_image_gray,generated_image_gray)))\n",
        "  return psnr    \n",
        "\n",
        "print(f'Input and GAN:') \n",
        "print(f'PSNR: {CalculatePSNR(real_image_gray,gan_image_gray)}')   \n",
        "print(f'SSIM: {CalculateSSIM(real_image_gray,gan_image_gray)}')  \n",
        "print()  \n",
        "print(f'Input and LAMA:') \n",
        "print(f'PSNR: {CalculatePSNR(real_image_gray,lama_image_gray)}')   \n",
        "print(f'SSIM: {CalculateSSIM(real_image_gray,lama_image_gray)}')   \n",
        "print() \n",
        "print(f'Input and Diffusion:')    \n",
        "print(f'PSNR: {CalculatePSNR(real_image_gray,diffusion_image_gray)}')\n",
        "print(f'SSIM: {CalculateSSIM(real_image_gray,diffusion_image_gray)}')"
      ]
    }
  ],
  "metadata": {
    "colab": {
      "provenance": []
    },
    "kernelspec": {
      "display_name": "Python 3",
      "name": "python3"
    },
    "language_info": {
      "name": "python"
    }
  },
  "nbformat": 4,
  "nbformat_minor": 0
}
